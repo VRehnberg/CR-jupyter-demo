{
 "cells": [
  {
   "cell_type": "markdown",
   "id": "e78fc245-3397-4b3b-83e4-bdcc1f02b060",
   "metadata": {},
   "source": [
    "# Demo for CodeRefinery workshop\n",
    "This is a demo"
   ]
  },
  {
   "cell_type": "code",
   "execution_count": 1,
   "id": "d49f0dc0-7d7f-4ef7-8c1c-ecb20b413b8b",
   "metadata": {},
   "outputs": [],
   "source": [
    "import pandas as pd"
   ]
  },
  {
   "cell_type": "markdown",
   "id": "0d876ce1-fbd1-4408-be90-06b2c3a50a66",
   "metadata": {},
   "source": [
    "## Second level heading\n",
    "\n",
    "This cell contains simple\n",
    "[markdown](https://daringfireball.net/projects/markdown/syntax), a simple language for writing text that can be automatically converted to other formats, e.g. HTML, LaTeX or any of a number of others.\n",
    "\n",
    "**Bold**, *italics*, **_combined_**, ~~strikethrough~~, `inline code`.\n",
    "\n",
    "* bullet points\n",
    "\n",
    "or\n",
    "\n",
    "1. numbered\n",
    "3. lists\n",
    "\n",
    "**Equations:**\n",
    "inline $e^{i\\pi} + 1 = 0$\n",
    "or on new line\n",
    "$$e^{i\\pi} + 1 = 0$$\n",
    "\n",
    "Images:\n",
    "\n",
    "![Jupyter logo](https://jupyter.org/assets/homepage/main-logo.svg)\n",
    "\n",
    "Links:\n",
    "[One of many markdown cheat-sheets](https://github.com/adam-p/markdown-here/wiki/Markdown-Cheatsheet#emphasis)"
   ]
  },
  {
   "cell_type": "markdown",
   "id": "859856c0-fb31-4be0-aa64-bb7e8d84009c",
   "metadata": {},
   "source": [
    "## This is a subtitle"
   ]
  },
  {
   "cell_type": "code",
   "execution_count": null,
   "id": "db1b8b31-b61b-48f6-8db1-3cfdc8cf961a",
   "metadata": {},
   "outputs": [],
   "source": []
  }
 ],
 "metadata": {
  "kernelspec": {
   "display_name": "Python 3 (ipykernel)",
   "language": "python",
   "name": "python3"
  },
  "language_info": {
   "codemirror_mode": {
    "name": "ipython",
    "version": 3
   },
   "file_extension": ".py",
   "mimetype": "text/x-python",
   "name": "python",
   "nbconvert_exporter": "python",
   "pygments_lexer": "ipython3",
   "version": "3.12.5"
  }
 },
 "nbformat": 4,
 "nbformat_minor": 5
}
